{
 "cells": [
  {
   "cell_type": "code",
   "execution_count": 20,
   "metadata": {},
   "outputs": [],
   "source": [
    "using DiffEqSensitivity, OrdinaryDiffEq, DiffEqParamEstim,\n",
    "      ParameterizedFunctions, BlackBoxOptim, NLopt, Calculus, ForwardDiff, Optim, BenchmarkTools, RecursiveArrayTools"
   ]
  },
  {
   "cell_type": "code",
   "execution_count": 21,
   "metadata": {},
   "outputs": [
    {
     "data": {
      "text/plain": [
       "costfunc_gradient (generic function with 1 method)"
      ]
     },
     "execution_count": 21,
     "metadata": {},
     "output_type": "execute_result"
    }
   ],
   "source": [
    "include(\"/Users/vaibhav/DiffEqParamEstim.jl/src/localsaparamestim.jl\")"
   ]
  },
  {
   "cell_type": "code",
   "execution_count": 22,
   "metadata": {},
   "outputs": [
    {
     "ename": "ErrorException",
     "evalue": "invalid redefinition of constant FitzhughNagumo",
     "output_type": "error",
     "traceback": [
      "invalid redefinition of constant FitzhughNagumo",
      "",
      "Stacktrace:",
      " [1] top-level scope at /Users/vaibhav/.julia/packages/ParameterizedFunctions/47E7u/src/utils.jl:2",
      " [2] top-level scope at In[22]:1"
     ]
    }
   ],
   "source": [
    "fitz  =  @ode_def FitzhughNagumo begin\n",
    "  dv = v - v^3/3 -w + 0.5\n",
    "  dw = -tinv*(v +  a - 0.8*w)\n",
    "end a tinv"
   ]
  },
  {
   "cell_type": "code",
   "execution_count": 23,
   "metadata": {},
   "outputs": [
    {
     "data": {
      "text/plain": [
       "\u001b[36mODEProblem\u001b[0m with uType \u001b[36mArray{Float64,1}\u001b[0m and tType \u001b[36mFloat64\u001b[0m. In-place: \u001b[36mtrue\u001b[0m\n",
       "timespan: (0.0, 3.0)\n",
       "u0: [1.0, 1.0]"
      ]
     },
     "execution_count": 23,
     "metadata": {},
     "output_type": "execute_result"
    }
   ],
   "source": [
    "p  =  [0.7,0.08]                      # Parameters used to construct the dataset\n",
    "r0 = [1.0; 1.0]                     # initial value\n",
    "tspan = (0.0, 3.0)                 # sample of 3000 observations over the (0,30) timespan\n",
    "prob = ODEProblem(fitz, r0, tspan,p)"
   ]
  },
  {
   "cell_type": "code",
   "execution_count": 24,
   "metadata": {},
   "outputs": [
    {
     "data": {
      "text/plain": [
       "retcode: Success\n",
       "Interpolation: 1st order linear\n",
       "t: 1000-element Array{Float64,1}:\n",
       " 0.0                 \n",
       " 0.003003003003003003\n",
       " 0.006006006006006006\n",
       " 0.009009009009009009\n",
       " 0.012012012012012012\n",
       " 0.015015015015015015\n",
       " 0.018018018018018018\n",
       " 0.021021021021021023\n",
       " 0.024024024024024024\n",
       " 0.02702702702702703 \n",
       " 0.03003003003003003 \n",
       " 0.03303303303303303 \n",
       " 0.036036036036036036\n",
       " ⋮                   \n",
       " 2.966966966966967   \n",
       " 2.96996996996997    \n",
       " 2.972972972972973   \n",
       " 2.975975975975976   \n",
       " 2.978978978978979   \n",
       " 2.981981981981982   \n",
       " 2.984984984984985   \n",
       " 2.987987987987988   \n",
       " 2.990990990990991   \n",
       " 2.993993993993994   \n",
       " 2.996996996996997   \n",
       " 3.0                 \n",
       "u: 1000-element Array{Array{Float64,1},1}:\n",
       " [1.0, 1.0, 0.0, 0.0, 0.0, 0.0]                                       \n",
       " [1.0005, 0.999784, 3.15651e-6, -0.0021023, 4.05938e-6, -0.00270397]  \n",
       " [1.001, 0.999567, 1.26268e-5, -0.00420501, 1.62426e-5, -0.0054105]   \n",
       " [1.0015, 0.999351, 2.84121e-5, -0.00630813, 3.65572e-5, -0.00811957] \n",
       " [1.00201, 0.999134, 5.05133e-5, -0.00841166, 6.50106e-5, -0.0108312] \n",
       " [1.00251, 0.998917, 7.89316e-5, -0.0105156, 0.00010161, -0.0135454]  \n",
       " [1.00301, 0.9987, 0.000113668, -0.0126199, 0.000146364, -0.0162621]  \n",
       " [1.00352, 0.998483, 0.000154723, -0.0147247, 0.000199278, -0.0189815]\n",
       " [1.00402, 0.998265, 0.000202098, -0.0168299, 0.00026036, -0.0217034] \n",
       " [1.00453, 0.998047, 0.000255794, -0.0189355, 0.000329618, -0.0244279]\n",
       " [1.00504, 0.99783, 0.000315811, -0.0210415, 0.000407059, -0.0271549] \n",
       " [1.00554, 0.997612, 0.00038215, -0.0231479, 0.000492688, -0.0298846] \n",
       " [1.00605, 0.997394, 0.000454812, -0.0252548, 0.000586515, -0.0326168]\n",
       " ⋮                                                                    \n",
       " [1.5403, 0.69278, 1.4884, -2.45468, 2.54107, -4.44931]               \n",
       " [1.54069, 0.692375, 1.48964, -2.45761, 2.54395, -4.45584]            \n",
       " [1.54108, 0.69197, 1.49087, -2.46055, 2.54684, -4.46237]             \n",
       " [1.54147, 0.691564, 1.49211, -2.46348, 2.54972, -4.46891]            \n",
       " [1.54185, 0.691158, 1.49334, -2.46641, 2.55261, -4.47546]            \n",
       " [1.54224, 0.690753, 1.49457, -2.46935, 2.55549, -4.482]              \n",
       " [1.54263, 0.690347, 1.49579, -2.47228, 2.55837, -4.48855]            \n",
       " [1.54301, 0.68994, 1.49702, -2.47522, 2.56125, -4.49511]             \n",
       " [1.5434, 0.689534, 1.49824, -2.47816, 2.56412, -4.50167]             \n",
       " [1.54378, 0.689127, 1.49947, -2.4811, 2.567, -4.50823]               \n",
       " [1.54417, 0.688721, 1.50069, -2.48404, 2.56987, -4.5148]             \n",
       " [1.54455, 0.688314, 1.50191, -2.48698, 2.57275, -4.52137]            "
      ]
     },
     "execution_count": 24,
     "metadata": {},
     "output_type": "execute_result"
    }
   ],
   "source": [
    "global t = collect(range(0, stop=3.0, length=1000))\n",
    "data = Array(solve(prob,Tsit5(),saveat=t,abstol=1e-3,reltol=1e-3))\n",
    "ourprob = ODELocalSensitivityProblem(fitz,r0,tspan,p)\n",
    "oursol = solve(ourprob,Tsit5(),saveat=t,abstol=1e-6,reltol=1e-6)"
   ]
  },
  {
   "cell_type": "code",
   "execution_count": 6,
   "metadata": {},
   "outputs": [
    {
     "data": {
      "text/plain": [
       "0.030906400389873762"
      ]
     },
     "execution_count": 6,
     "metadata": {},
     "output_type": "execute_result"
    }
   ],
   "source": [
    "oursol[3,100]"
   ]
  },
  {
   "cell_type": "code",
   "execution_count": 7,
   "metadata": {},
   "outputs": [
    {
     "data": {
      "text/plain": [
       "30.7133361592769"
      ]
     },
     "execution_count": 7,
     "metadata": {},
     "output_type": "execute_result"
    }
   ],
   "source": [
    "out = Array{Float64}(undef,2)\n",
    "p = [0.7,0.01]\n",
    "costfunc_gradient(p,out)"
   ]
  },
  {
   "cell_type": "code",
   "execution_count": 8,
   "metadata": {},
   "outputs": [
    {
     "data": {
      "text/plain": [
       "2-element Array{Float64,1}:\n",
       " -534.6017489903944\n",
       " -815.6459048635078"
      ]
     },
     "execution_count": 8,
     "metadata": {},
     "output_type": "execute_result"
    }
   ],
   "source": [
    "out"
   ]
  },
  {
   "cell_type": "code",
   "execution_count": 9,
   "metadata": {},
   "outputs": [
    {
     "data": {
      "text/plain": [
       "2-element Array{Float64,1}:\n",
       " 8.4879831663e-314\n",
       " 2.121995792e-314 "
      ]
     },
     "execution_count": 9,
     "metadata": {},
     "output_type": "execute_result"
    }
   ],
   "source": [
    "out = Array{Float64}(undef,2)"
   ]
  },
  {
   "cell_type": "code",
   "execution_count": 10,
   "metadata": {},
   "outputs": [],
   "source": [
    "Calculus.finite_difference!(costfunc,p,out,:central)"
   ]
  },
  {
   "cell_type": "code",
   "execution_count": 11,
   "metadata": {},
   "outputs": [
    {
     "data": {
      "text/plain": [
       "2-element Array{Float64,1}:\n",
       "   -7.637167444852697\n",
       " -815.6458940224957  "
      ]
     },
     "execution_count": 11,
     "metadata": {},
     "output_type": "execute_result"
    }
   ],
   "source": [
    "out"
   ]
  },
  {
   "cell_type": "code",
   "execution_count": 12,
   "metadata": {},
   "outputs": [
    {
     "data": {
      "text/plain": [
       "BenchmarkTools.Trial: \n",
       "  memory estimate:  638.72 KiB\n",
       "  allocs estimate:  3552\n",
       "  --------------\n",
       "  minimum time:     551.461 μs (0.00% GC)\n",
       "  median time:      636.817 μs (0.00% GC)\n",
       "  mean time:        786.835 μs (7.59% GC)\n",
       "  maximum time:     6.872 ms (78.78% GC)\n",
       "  --------------\n",
       "  samples:          6292\n",
       "  evals/sample:     1"
      ]
     },
     "execution_count": 12,
     "metadata": {},
     "output_type": "execute_result"
    }
   ],
   "source": [
    "p = [0.5,0.01]\n",
    "@benchmark begin\n",
    "    out = Array{Float64}(undef,2)\n",
    "    costfunc_gradient(p,out)\n",
    "end"
   ]
  },
  {
   "cell_type": "code",
   "execution_count": 13,
   "metadata": {},
   "outputs": [
    {
     "data": {
      "text/plain": [
       "32.261072788753445"
      ]
     },
     "execution_count": 13,
     "metadata": {},
     "output_type": "execute_result"
    }
   ],
   "source": [
    "out = Array{Float64}(undef,2)\n",
    "costfunc_gradient(p,out)"
   ]
  },
  {
   "cell_type": "code",
   "execution_count": 14,
   "metadata": {},
   "outputs": [
    {
     "data": {
      "text/plain": [
       "2-element Array{Float64,1}:\n",
       " -392.01858732469236\n",
       " -678.1275946016888 "
      ]
     },
     "execution_count": 14,
     "metadata": {},
     "output_type": "execute_result"
    }
   ],
   "source": [
    "out"
   ]
  },
  {
   "cell_type": "code",
   "execution_count": 15,
   "metadata": {},
   "outputs": [
    {
     "data": {
      "text/plain": [
       "2-element Array{Float64,1}:\n",
       " 2.1540038694e-314\n",
       " 2.154020462e-314 "
      ]
     },
     "execution_count": 15,
     "metadata": {},
     "output_type": "execute_result"
    }
   ],
   "source": [
    "out = Array{Float64}(undef,2)"
   ]
  },
  {
   "cell_type": "code",
   "execution_count": 16,
   "metadata": {},
   "outputs": [
    {
     "data": {
      "text/plain": [
       "BenchmarkTools.Trial: \n",
       "  memory estimate:  1.19 MiB\n",
       "  allocs estimate:  7106\n",
       "  --------------\n",
       "  minimum time:     1.061 ms (0.00% GC)\n",
       "  median time:      1.145 ms (0.00% GC)\n",
       "  mean time:        1.250 ms (7.56% GC)\n",
       "  maximum time:     4.443 ms (52.30% GC)\n",
       "  --------------\n",
       "  samples:          3993\n",
       "  evals/sample:     1"
      ]
     },
     "execution_count": 16,
     "metadata": {},
     "output_type": "execute_result"
    }
   ],
   "source": [
    "@benchmark Calculus.finite_difference!(costfunc,p,out,:central)"
   ]
  },
  {
   "cell_type": "code",
   "execution_count": 17,
   "metadata": {},
   "outputs": [
    {
     "data": {
      "text/plain": [
       "2-element Array{Float64,1}:\n",
       "   -7.840372797181787\n",
       " -678.127600568777   "
      ]
     },
     "execution_count": 17,
     "metadata": {},
     "output_type": "execute_result"
    }
   ],
   "source": [
    "out"
   ]
  },
  {
   "cell_type": "code",
   "execution_count": 18,
   "metadata": {},
   "outputs": [
    {
     "data": {
      "text/plain": [
       "(0.006484500222514104, [0.927343, 0.0665975], :XTOL_REACHED)"
      ]
     },
     "execution_count": 18,
     "metadata": {},
     "output_type": "execute_result"
    }
   ],
   "source": [
    "opt = Opt(:LD_MMA, 2)\n",
    "min_objective!(opt, costfunc_gradient)\n",
    "lower_bounds!(opt,[0.0,0.0])\n",
    "upper_bounds!(opt,[1.0,0.1])\n",
    "xtol_rel!(opt,1e-12)\n",
    "maxeval!(opt, 100000)\n",
    "(minf,minx,ret) = NLopt.optimize(opt,[0.5,0.0])"
   ]
  }
 ],
 "metadata": {
  "kernelspec": {
   "display_name": "Julia 1.0.0",
   "language": "julia",
   "name": "julia-1.0"
  },
  "language_info": {
   "file_extension": ".jl",
   "mimetype": "application/julia",
   "name": "julia",
   "version": "1.0.0"
  }
 },
 "nbformat": 4,
 "nbformat_minor": 2
}
