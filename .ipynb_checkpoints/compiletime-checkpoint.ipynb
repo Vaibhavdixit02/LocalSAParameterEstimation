{
 "cells": [
  {
   "cell_type": "code",
   "execution_count": 1,
   "metadata": {},
   "outputs": [],
   "source": [
    "using OrdinaryDiffEq, ParameterizedFunctions"
   ]
  },
  {
   "cell_type": "code",
   "execution_count": 2,
   "metadata": {},
   "outputs": [
    {
     "data": {
      "text/plain": [
       "(::LV{getfield(Main, Symbol(\"##3#9\")),getfield(Main, Symbol(\"##4#10\")),getfield(Main, Symbol(\"##5#11\")),getfield(Main, Symbol(\"##6#12\")),getfield(Main, Symbol(\"##7#13\")),getfield(Main, Symbol(\"##8#14\")),Expr,Expr}) (generic function with 2 methods)"
      ]
     },
     "execution_count": 2,
     "metadata": {},
     "output_type": "execute_result"
    }
   ],
   "source": [
    "lva = @ode_def LV begin\n",
    "    dx = a*x - x*y\n",
    "    dy = -3.0*y + x*y\n",
    "    ddxda = (a-y)*dxda - x*dyda + x\n",
    "    ddyda = (-3.0 + x) *dyda + y*dxda   \n",
    "end a "
   ]
  },
  {
   "cell_type": "code",
   "execution_count": 3,
   "metadata": {},
   "outputs": [
    {
     "data": {
      "text/plain": [
       "\u001b[36mODEProblem\u001b[0m with uType \u001b[36mArray{Float64,1}\u001b[0m and tType \u001b[36mFloat64\u001b[0m. In-place: \u001b[36mtrue\u001b[0m\n",
       "timespan: (0.0, 3.0)\n",
       "u0: [1.0, 1.0, 0.0, 0.0]"
      ]
     },
     "execution_count": 3,
     "metadata": {},
     "output_type": "execute_result"
    }
   ],
   "source": [
    "r0 = [1.0;1.0;0.0;0.0]\n",
    "p = [1.5]                     # initial value\n",
    "tspan = (0.0, 3.0)                 # sample of 3000 observations over the (0,30) timespan\n",
    "prob = ODEProblem(lva, r0, tspan,p)"
   ]
  },
  {
   "cell_type": "code",
   "execution_count": 4,
   "metadata": {},
   "outputs": [
    {
     "data": {
      "text/plain": [
       "4×1000 Array{Float64,2}:\n",
       " 1.0  1.00151     1.00304     1.0046      …   0.972981   0.971737   0.970528\n",
       " 1.0  0.994014    0.988069    0.982164        1.93196    1.92024    1.90857 \n",
       " 0.0  0.00300754  0.00602425  0.0090503      -0.791517  -0.774632  -0.757883\n",
       " 0.0  4.48467e-6  1.78505e-5  3.99665e-5     -4.44931   -4.42683   -4.40433 "
      ]
     },
     "execution_count": 4,
     "metadata": {},
     "output_type": "execute_result"
    }
   ],
   "source": [
    "t = collect(range(0, stop=3.0, length=1000))\n",
    "data = Array(solve(prob,Tsit5(),saveat=t,abstol=1e-3,reltol=1e-3))"
   ]
  },
  {
   "cell_type": "code",
   "execution_count": 9,
   "metadata": {},
   "outputs": [
    {
     "data": {
      "text/plain": [
       "(::LVmulti{getfield(Main, Symbol(\"##27#33\")),getfield(Main, Symbol(\"##28#34\")),getfield(Main, Symbol(\"##29#35\")),getfield(Main, Symbol(\"##30#36\")),getfield(Main, Symbol(\"##31#37\")),getfield(Main, Symbol(\"##32#38\")),Expr,Expr}) (generic function with 2 methods)"
      ]
     },
     "execution_count": 9,
     "metadata": {},
     "output_type": "execute_result"
    }
   ],
   "source": [
    "lvabcd = @ode_def LVmulti begin\n",
    "    dx = a*x - b*x*y\n",
    "    dy = -c*y + d*x*y\n",
    "    ddxda = (a-b*y)*dxda - b*x*dyda + x\n",
    "    ddyda = (-c + d*x) *dyda + y*dxda\n",
    "    ddxdb = (a-b*y)*dxdb - b*x*dydb - x*y\n",
    "    ddydb = (-c + d*x) *dydb + y*dxdb\n",
    "    ddxdc = (a-b*y)*dxdc - b*x*dydc \n",
    "    ddydc = (-c + d*x) *dydc + y*dxdc - y \n",
    "    ddxdd = (a-b*y)*dxdd - b*x*dydd\n",
    "    ddydd = (-c + d*x) *dydd + y*dxdd + x*y \n",
    "end a b c d"
   ]
  },
  {
   "cell_type": "code",
   "execution_count": 10,
   "metadata": {},
   "outputs": [
    {
     "data": {
      "text/plain": [
       "\u001b[36mODEProblem\u001b[0m with uType \u001b[36mArray{Float64,1}\u001b[0m and tType \u001b[36mFloat64\u001b[0m. In-place: \u001b[36mtrue\u001b[0m\n",
       "timespan: (0.0, 3.0)\n",
       "u0: [1.0, 1.0, 0.0, 0.0, 0.0, 0.0, 0.0, 0.0, 0.0, 0.0]"
      ]
     },
     "execution_count": 10,
     "metadata": {},
     "output_type": "execute_result"
    }
   ],
   "source": [
    "r0 = [1.0;1.0;0.0;0.0;0.0;0.0;0.0;0.0;0.0;0.0]\n",
    "p = [1.5,1.0,3.0,1.0]                     # initial value\n",
    "tspan = (0.0, 3.0)                 # sample of 3000 observations over the (0,30) timespan\n",
    "prob = ODEProblem(lvabcd, r0, tspan,p)"
   ]
  },
  {
   "cell_type": "code",
   "execution_count": 11,
   "metadata": {},
   "outputs": [
    {
     "data": {
      "text/plain": [
       "10×1000 Array{Float64,2}:\n",
       " 1.0   1.00151      1.00304     …   0.972891    0.971645    0.970434 \n",
       " 1.0   0.994014     0.988069        1.93271     1.92097     1.90931  \n",
       " 0.0   0.00300754   0.00602425     -0.790289   -0.773386   -0.756617 \n",
       " 0.0   4.48497e-6   1.78516e-5     -4.4571     -4.43456    -4.41201  \n",
       " 0.0  -0.00299853  -0.00598824      0.379018    0.374731    0.370484 \n",
       " 0.0  -4.47367e-6  -1.77723e-5  …  -0.627069   -0.621088   -0.615179 \n",
       " 0.0   4.4954e-6    1.79383e-5     -0.0515044  -0.0496789  -0.0478527\n",
       " 0.0  -0.00298502  -0.00593431     -0.601824   -0.604231   -0.606573 \n",
       " 0.0  -4.49771e-6  -1.79566e-5     -0.291283   -0.283309   -0.275424 \n",
       " 0.0   0.00298728   0.00594331     -2.61445    -2.59463    -2.5749   "
      ]
     },
     "execution_count": 11,
     "metadata": {},
     "output_type": "execute_result"
    }
   ],
   "source": [
    "data = Array(solve(prob,Tsit5(),saveat=t,abstol=1e-3,reltol=1e-3))"
   ]
  },
  {
   "cell_type": "code",
   "execution_count": null,
   "metadata": {},
   "outputs": [],
   "source": []
  }
 ],
 "metadata": {
  "kernelspec": {
   "display_name": "Julia 1.0.0",
   "language": "julia",
   "name": "julia-1.0"
  },
  "language_info": {
   "file_extension": ".jl",
   "mimetype": "application/julia",
   "name": "julia",
   "version": "1.0.0"
  }
 },
 "nbformat": 4,
 "nbformat_minor": 2
}
