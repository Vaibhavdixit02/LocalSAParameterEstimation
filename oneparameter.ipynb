{
 "cells": [
  {
   "cell_type": "code",
   "execution_count": 1,
   "metadata": {},
   "outputs": [],
   "source": [
    "using DiffEqSensitivity, OrdinaryDiffEq, DiffEqParamEstim, ParameterizedFunctions, BlackBoxOptim, NLopt, Calculus, ForwardDiff, Optim"
   ]
  },
  {
   "cell_type": "code",
   "execution_count": 2,
   "metadata": {},
   "outputs": [
    {
     "data": {
      "text/plain": [
       "costfunc_gradient (generic function with 1 method)"
      ]
     },
     "execution_count": 2,
     "metadata": {},
     "output_type": "execute_result"
    }
   ],
   "source": [
    "include(\"/Users/vaibhav/DiffEqParamEstim.jl/src/localsaparamestim.jl\")"
   ]
  },
  {
   "cell_type": "code",
   "execution_count": 3,
   "metadata": {},
   "outputs": [
    {
     "data": {
      "text/plain": [
       "(::FitzhughNagumo{getfield(Main, Symbol(\"##5#11\")),getfield(Main, Symbol(\"##6#12\")),getfield(Main, Symbol(\"##7#13\")),getfield(Main, Symbol(\"##8#14\")),getfield(Main, Symbol(\"##9#15\")),getfield(Main, Symbol(\"##10#16\")),Expr,Expr}) (generic function with 2 methods)"
      ]
     },
     "execution_count": 3,
     "metadata": {},
     "output_type": "execute_result"
    }
   ],
   "source": [
    "fitz = @ode_def_nohes FitzhughNagumo begin\n",
    "  dv = v - v^3/3 -w + 0.5\n",
    "  dw = 0.08*(v +  a - 0.8*w)\n",
    "end a"
   ]
  },
  {
   "cell_type": "code",
   "execution_count": 4,
   "metadata": {},
   "outputs": [
    {
     "data": {
      "text/plain": [
       "\u001b[36mODEProblem\u001b[0m with uType \u001b[36mArray{Float64,1}\u001b[0m and tType \u001b[36mFloat64\u001b[0m. In-place: \u001b[36mtrue\u001b[0m\n",
       "timespan: (0.0, 3.0)\n",
       "u0: [1.0, 1.0]"
      ]
     },
     "execution_count": 4,
     "metadata": {},
     "output_type": "execute_result"
    }
   ],
   "source": [
    "p = [0.7]              # Parameters used to construct the dataset\n",
    "r0 = [1.0; 1.0]                     # initial value\n",
    "tspan = (0.0, 3.0)                 # sample of 3000 observations over the (0,30) timespan\n",
    "prob = ODEProblem(fitz, r0, tspan,p)"
   ]
  },
  {
   "cell_type": "code",
   "execution_count": 5,
   "metadata": {},
   "outputs": [
    {
     "data": {
      "text/plain": [
       "2×1000 Array{Float64,2}:\n",
       " 1.0  1.0005   1.001    1.0015   …  1.11337  1.11316  1.11296  1.11275\n",
       " 1.0  1.00022  1.00043  1.00065     1.222    1.2222   1.2224   1.2226 "
      ]
     },
     "execution_count": 5,
     "metadata": {},
     "output_type": "execute_result"
    }
   ],
   "source": [
    "t = collect(range(0, stop=3.0, length=1000))\n",
    "data = Array(solve(prob,Tsit5(),saveat=t,abstol=1e-3,reltol=1e-3))"
   ]
  },
  {
   "cell_type": "code",
   "execution_count": 6,
   "metadata": {},
   "outputs": [
    {
     "data": {
      "text/plain": [
       "\u001b[36mODEProblem\u001b[0m with uType \u001b[36mArray{Float64,1}\u001b[0m and tType \u001b[36mFloat64\u001b[0m. In-place: \u001b[36mtrue\u001b[0m\n",
       "timespan: (0.0, 3.0)\n",
       "u0: [1.0, 1.0, 0.0, 0.0]"
      ]
     },
     "execution_count": 6,
     "metadata": {},
     "output_type": "execute_result"
    }
   ],
   "source": [
    "ourprob = ODELocalSensitivityProblem(fitz,r0,tspan,p)"
   ]
  },
  {
   "cell_type": "code",
   "execution_count": 7,
   "metadata": {},
   "outputs": [
    {
     "data": {
      "text/plain": [
       "retcode: Success\n",
       "Interpolation: 1st order linear\n",
       "t: 1000-element Array{Float64,1}:\n",
       " 0.0                 \n",
       " 0.003003003003003003\n",
       " 0.006006006006006006\n",
       " 0.009009009009009009\n",
       " 0.012012012012012012\n",
       " 0.015015015015015015\n",
       " 0.018018018018018018\n",
       " 0.021021021021021023\n",
       " 0.024024024024024024\n",
       " 0.02702702702702703 \n",
       " 0.03003003003003003 \n",
       " 0.03303303303303303 \n",
       " 0.036036036036036036\n",
       " ⋮                   \n",
       " 2.966966966966967   \n",
       " 2.96996996996997    \n",
       " 2.972972972972973   \n",
       " 2.975975975975976   \n",
       " 2.978978978978979   \n",
       " 2.981981981981982   \n",
       " 2.984984984984985   \n",
       " 2.987987987987988   \n",
       " 2.990990990990991   \n",
       " 2.993993993993994   \n",
       " 2.996996996996997   \n",
       " 3.0                 \n",
       "u: 1000-element Array{Array{Float64,1},1}:\n",
       " [1.0, 1.0, 0.0, 0.0]                       \n",
       " [1.0005, 1.00022, -3.60698e-7, 0.000240217]\n",
       " [1.001, 1.00043, -1.4427e-6, 0.000480388]  \n",
       " [1.0015, 1.00065, -3.24584e-6, 0.000720512]\n",
       " [1.002, 1.00087, -5.76998e-6, 0.00096059]  \n",
       " [1.00249, 1.00108, -9.01496e-6, 0.00120062]\n",
       " [1.00299, 1.0013, -1.29806e-5, 0.0014406]  \n",
       " [1.00349, 1.00152, -1.76667e-5, 0.00168054]\n",
       " [1.00398, 1.00173, -2.30731e-5, 0.00192043]\n",
       " [1.00448, 1.00195, -2.91997e-5, 0.00216027]\n",
       " [1.00497, 1.00217, -3.60461e-5, 0.00240007]\n",
       " [1.00547, 1.00238, -4.36122e-5, 0.00263981]\n",
       " [1.00596, 1.0026, -5.18979e-5, 0.00287951] \n",
       " ⋮                                          \n",
       " [1.11497, 1.22039, -0.237672, 0.196355]    \n",
       " [1.11477, 1.22059, -0.238089, 0.196501]    \n",
       " [1.11457, 1.22079, -0.238506, 0.196646]    \n",
       " [1.11437, 1.22099, -0.238923, 0.196791]    \n",
       " [1.11416, 1.2212, -0.23934, 0.196936]      \n",
       " [1.11396, 1.2214, -0.239759, 0.197081]     \n",
       " [1.11375, 1.2216, -0.240177, 0.197225]     \n",
       " [1.11355, 1.2218, -0.240596, 0.19737]      \n",
       " [1.11334, 1.222, -0.241016, 0.197514]      \n",
       " [1.11313, 1.2222, -0.241436, 0.197659]     \n",
       " [1.11293, 1.2224, -0.241856, 0.197803]     \n",
       " [1.11272, 1.2226, -0.242277, 0.197947]     "
      ]
     },
     "execution_count": 7,
     "metadata": {},
     "output_type": "execute_result"
    }
   ],
   "source": [
    "oursol = solve(ourprob,Tsit5(),saveat=t,abstol=1e-6,reltol=1e-6)"
   ]
  },
  {
   "cell_type": "code",
   "execution_count": 8,
   "metadata": {},
   "outputs": [
    {
     "data": {
      "text/plain": [
       "1.4591534767036364e-7"
      ]
     },
     "execution_count": 8,
     "metadata": {},
     "output_type": "execute_result"
    }
   ],
   "source": [
    "myl2loss(oursol,data)"
   ]
  },
  {
   "cell_type": "code",
   "execution_count": 9,
   "metadata": {},
   "outputs": [
    {
     "data": {
      "text/plain": [
       "(4, 1000)"
      ]
     },
     "execution_count": 9,
     "metadata": {},
     "output_type": "execute_result"
    }
   ],
   "source": [
    "size(oursol)"
   ]
  },
  {
   "cell_type": "code",
   "execution_count": 13,
   "metadata": {},
   "outputs": [
    {
     "data": {
      "text/plain": [
       "1-element Array{Float64,1}:\n",
       " 0.0"
      ]
     },
     "execution_count": 13,
     "metadata": {},
     "output_type": "execute_result"
    }
   ],
   "source": [
    "out = zeros(eltype(oursol),1)"
   ]
  },
  {
   "cell_type": "code",
   "execution_count": 17,
   "metadata": {},
   "outputs": [],
   "source": [
    "myl2lossgradient!(out,oursol,data,1)"
   ]
  },
  {
   "cell_type": "code",
   "execution_count": 18,
   "metadata": {},
   "outputs": [
    {
     "data": {
      "text/plain": [
       "1-element Array{Float64,1}:\n",
       " 0.00010425580660985847"
      ]
     },
     "execution_count": 18,
     "metadata": {},
     "output_type": "execute_result"
    }
   ],
   "source": [
    "out"
   ]
  },
  {
   "cell_type": "code",
   "execution_count": 23,
   "metadata": {},
   "outputs": [
    {
     "data": {
      "text/plain": [
       "0.2846344980787316"
      ]
     },
     "execution_count": 23,
     "metadata": {},
     "output_type": "execute_result"
    }
   ],
   "source": [
    "p = [0.8]\n",
    "costfunc_gradient(p,out)"
   ]
  },
  {
   "cell_type": "code",
   "execution_count": 31,
   "metadata": {},
   "outputs": [
    {
     "data": {
      "text/plain": [
       "BenchmarkTools.Trial: \n",
       "  memory estimate:  575.72 KiB\n",
       "  allocs estimate:  2886\n",
       "  --------------\n",
       "  minimum time:     498.923 μs (0.00% GC)\n",
       "  median time:      544.177 μs (0.00% GC)\n",
       "  mean time:        632.375 μs (10.72% GC)\n",
       "  maximum time:     5.007 ms (81.26% GC)\n",
       "  --------------\n",
       "  samples:          7851\n",
       "  evals/sample:     1"
      ]
     },
     "execution_count": 31,
     "metadata": {},
     "output_type": "execute_result"
    }
   ],
   "source": [
    "p = [0.5]\n",
    "@benchmark begin\n",
    "    out = Array{Float64}(undef,2)\n",
    "    costfunc_gradient(p,out)\n",
    "end"
   ]
  },
  {
   "cell_type": "code",
   "execution_count": 32,
   "metadata": {},
   "outputs": [
    {
     "data": {
      "text/plain": [
       "BenchmarkTools.Trial: \n",
       "  memory estimate:  544.19 KiB\n",
       "  allocs estimate:  2887\n",
       "  --------------\n",
       "  minimum time:     457.660 μs (0.00% GC)\n",
       "  median time:      495.616 μs (0.00% GC)\n",
       "  mean time:        563.601 μs (10.87% GC)\n",
       "  maximum time:     3.427 ms (84.31% GC)\n",
       "  --------------\n",
       "  samples:          8843\n",
       "  evals/sample:     1"
      ]
     },
     "execution_count": 32,
     "metadata": {},
     "output_type": "execute_result"
    }
   ],
   "source": [
    "@benchmark Calculus.finite_difference!(costfunc,p,out,:central)"
   ]
  },
  {
   "cell_type": "code",
   "execution_count": 24,
   "metadata": {},
   "outputs": [
    {
     "data": {
      "text/plain": [
       "(1.4581897986914204e-7, [0.699998], :XTOL_REACHED)"
      ]
     },
     "execution_count": 24,
     "metadata": {},
     "output_type": "execute_result"
    }
   ],
   "source": [
    "opt = Opt(:LD_MMA, 1)\n",
    "min_objective!(opt, costfunc_gradient)\n",
    "lower_bounds!(opt,[0.0])\n",
    "upper_bounds!(opt,[1.0])\n",
    "xtol_rel!(opt,1e-12)\n",
    "maxeval!(opt, 10000)\n",
    "(minf,minx,ret) = NLopt.optimize(opt,[0.5])"
   ]
  },
  {
   "cell_type": "code",
   "execution_count": 29,
   "metadata": {},
   "outputs": [
    {
     "data": {
      "text/plain": [
       "l! (generic function with 1 method)"
      ]
     },
     "execution_count": 29,
     "metadata": {},
     "output_type": "execute_result"
    }
   ],
   "source": [
    "function l!(grad,p)\n",
    "    costfunc_gradient(p,grad)\n",
    "end"
   ]
  },
  {
   "cell_type": "code",
   "execution_count": 30,
   "metadata": {},
   "outputs": [
    {
     "data": {
      "text/plain": [
       "Results of Optimization Algorithm\n",
       " * Algorithm: Conjugate Gradient\n",
       " * Starting Point: [0.4]\n",
       " * Minimizer: [0.6999981513469326]\n",
       " * Minimum: 1.458190e-07\n",
       " * Iterations: 5\n",
       " * Convergence: true\n",
       "   * |x - x'| ≤ 0.0e+00: false \n",
       "     |x - x'| = 2.64e-10 \n",
       "   * |f(x) - f(x')| ≤ 0.0e+00 |f(x)|: false\n",
       "     |f(x) - f(x')| = 5.73e-10 |f(x)|\n",
       "   * |g(x)| ≤ 1.0e-08: true \n",
       "     |g(x)| = 2.21e-13 \n",
       "   * Stopped by an increasing objective: false\n",
       "   * Reached Maximum Number of Iterations: false\n",
       " * Objective Calls: 13\n",
       " * Gradient Calls: 10"
      ]
     },
     "execution_count": 30,
     "metadata": {},
     "output_type": "execute_result"
    }
   ],
   "source": [
    "Optim.optimize(costfunc, l!, [0.4], ConjugateGradient())"
   ]
  },
  {
   "cell_type": "code",
   "execution_count": null,
   "metadata": {},
   "outputs": [],
   "source": []
  },
  {
   "cell_type": "code",
   "execution_count": null,
   "metadata": {},
   "outputs": [],
   "source": []
  }
 ],
 "metadata": {
  "kernelspec": {
   "display_name": "Julia 1.0.0",
   "language": "julia",
   "name": "julia-1.0"
  },
  "language_info": {
   "file_extension": ".jl",
   "mimetype": "application/julia",
   "name": "julia",
   "version": "1.0.0"
  }
 },
 "nbformat": 4,
 "nbformat_minor": 2
}
