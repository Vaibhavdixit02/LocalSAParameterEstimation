{
 "cells": [
  {
   "cell_type": "code",
   "execution_count": 1,
   "metadata": {},
   "outputs": [],
   "source": [
    "using DiffEqSensitivity, OrdinaryDiffEq, DiffEqParamEstim,\n",
    "      ParameterizedFunctions, BlackBoxOptim, NLopt, Calculus, ForwardDiff, Optim, BenchmarkTools, RecursiveArrayTools"
   ]
  },
  {
   "cell_type": "code",
   "execution_count": 2,
   "metadata": {},
   "outputs": [
    {
     "data": {
      "text/plain": [
       "costfunc_gradient (generic function with 1 method)"
      ]
     },
     "execution_count": 2,
     "metadata": {},
     "output_type": "execute_result"
    }
   ],
   "source": [
    "include(\"/Users/vaibhav/DiffEqParamEstim.jl/src/localsaparamestim.jl\")"
   ]
  },
  {
   "cell_type": "code",
   "execution_count": 3,
   "metadata": {},
   "outputs": [
    {
     "data": {
      "text/plain": [
       "(::FitzhughNagumo{getfield(Main, Symbol(\"##5#11\")),getfield(Main, Symbol(\"##6#12\")),getfield(Main, Symbol(\"##7#13\")),getfield(Main, Symbol(\"##8#14\")),getfield(Main, Symbol(\"##9#15\")),getfield(Main, Symbol(\"##10#16\")),Expr,Expr}) (generic function with 2 methods)"
      ]
     },
     "execution_count": 3,
     "metadata": {},
     "output_type": "execute_result"
    }
   ],
   "source": [
    "fitz  =  @ode_def FitzhughNagumo begin\n",
    "  dv = v - v^3/3 -w + i\n",
    "  dw = -tinv*(v +  a - b*w)\n",
    "end a tinv b i"
   ]
  },
  {
   "cell_type": "code",
   "execution_count": 4,
   "metadata": {},
   "outputs": [
    {
     "data": {
      "text/plain": [
       "\u001b[36mODEProblem\u001b[0m with uType \u001b[36mArray{Float64,1}\u001b[0m and tType \u001b[36mFloat64\u001b[0m. In-place: \u001b[36mtrue\u001b[0m\n",
       "timespan: (0.0, 3.0)\n",
       "u0: [1.0, 1.0]"
      ]
     },
     "execution_count": 4,
     "metadata": {},
     "output_type": "execute_result"
    }
   ],
   "source": [
    "p  =  [0.7,0.08,0.8,0.5]                      # Parameters used to construct the dataset\n",
    "r0 = [1.0; 1.0]                     # initial value\n",
    "tspan = (0.0, 3.0)                 # sample of 3000 observations over the (0,30) timespan\n",
    "prob = ODEProblem(fitz, r0, tspan,p)"
   ]
  },
  {
   "cell_type": "code",
   "execution_count": 5,
   "metadata": {},
   "outputs": [
    {
     "data": {
      "text/plain": [
       "retcode: Success\n",
       "Interpolation: 1st order linear\n",
       "t: 1000-element Array{Float64,1}:\n",
       " 0.0                 \n",
       " 0.003003003003003003\n",
       " 0.006006006006006006\n",
       " 0.009009009009009009\n",
       " 0.012012012012012012\n",
       " 0.015015015015015015\n",
       " 0.018018018018018018\n",
       " 0.021021021021021023\n",
       " 0.024024024024024024\n",
       " 0.02702702702702703 \n",
       " 0.03003003003003003 \n",
       " 0.03303303303303303 \n",
       " 0.036036036036036036\n",
       " ⋮                   \n",
       " 2.966966966966967   \n",
       " 2.96996996996997    \n",
       " 2.972972972972973   \n",
       " 2.975975975975976   \n",
       " 2.978978978978979   \n",
       " 2.981981981981982   \n",
       " 2.984984984984985   \n",
       " 2.987987987987988   \n",
       " 2.990990990990991   \n",
       " 2.993993993993994   \n",
       " 2.996996996996997   \n",
       " 3.0                 \n",
       "u: 1000-element Array{Array{Float64,1},1}:\n",
       " [1.0, 1.0, 0.0, 0.0, 0.0, 0.0, 0.0, 0.0, 0.0, 0.0]                                                                     \n",
       " [1.0005, 0.999784, 3.15651e-6, -0.0021023, 7.30584e-6, -0.00486611, -3.60718e-7, 0.000240237, 0.003003, -3.60744e-7]   \n",
       " [1.001, 0.999567, 1.26268e-5, -0.00420501, 2.92283e-5, -0.00973472, -1.44286e-6, 0.000480469, 0.00600598, -1.44307e-6] \n",
       " [1.0015, 0.999351, 2.84121e-5, -0.00630813, 6.57747e-5, -0.0146058, -3.24639e-6, 0.000720695, 0.00900894, -3.2471e-6]  \n",
       " [1.00201, 0.999134, 5.05133e-5, -0.00841166, 0.000116952, -0.0194794, -5.77129e-6, 0.000960916, 0.0120118, -5.77298e-6]\n",
       " [1.00251, 0.998917, 7.89316e-5, -0.0105156, 0.000182768, -0.0243556, -9.01751e-6, 0.00120113, 0.0150147, -9.02082e-6]  \n",
       " [1.00301, 0.9987, 0.000113668, -0.0126199, 0.000263229, -0.0292342, -1.2985e-5, 0.00144134, 0.0180174, -1.29907e-5]    \n",
       " [1.00352, 0.998483, 0.000154723, -0.0147247, 0.000358341, -0.0341154, -1.76737e-5, 0.00168155, 0.0210201, -1.76829e-5] \n",
       " [1.00402, 0.998265, 0.000202098, -0.0168299, 0.000468113, -0.0389991, -2.30836e-5, 0.00192175, 0.0240227, -2.30973e-5] \n",
       " [1.00453, 0.998047, 0.000255794, -0.0189355, 0.00059255, -0.0438854, -2.92146e-5, 0.00216194, 0.0270251, -2.92342e-5]  \n",
       " [1.00504, 0.99783, 0.000315811, -0.0210415, 0.000731658, -0.0487741, -3.60667e-5, 0.00240214, 0.0300274, -3.60936e-5]  \n",
       " [1.00554, 0.997612, 0.00038215, -0.0231479, 0.000885445, -0.0536655, -4.36396e-5, 0.00264232, 0.0330295, -4.36757e-5]  \n",
       " [1.00605, 0.997394, 0.000454812, -0.0252548, 0.00105392, -0.0585594, -5.19335e-5, 0.00288251, 0.0360314, -5.19805e-5]  \n",
       " ⋮                                                                                                                      \n",
       " [1.5403, 0.69278, 1.4884, -2.45468, 3.91994, -6.65083, -0.153208, 0.244614, 1.06011, -0.232453]                        \n",
       " [1.54069, 0.692375, 1.48964, -2.45761, 3.92376, -6.65962, -0.153311, 0.244864, 1.05944, -0.232752]                     \n",
       " [1.54108, 0.69197, 1.49087, -2.46055, 3.92757, -6.6684, -0.153414, 0.245114, 1.05877, -0.233051]                       \n",
       " [1.54147, 0.691564, 1.49211, -2.46348, 3.93137, -6.67719, -0.153517, 0.245365, 1.05811, -0.233351]                     \n",
       " [1.54185, 0.691158, 1.49334, -2.46641, 3.93518, -6.68599, -0.153619, 0.245615, 1.05744, -0.23365]                      \n",
       " [1.54224, 0.690753, 1.49457, -2.46935, 3.93898, -6.69479, -0.153721, 0.245865, 1.05677, -0.233948]                     \n",
       " [1.54263, 0.690347, 1.49579, -2.47228, 3.94277, -6.70359, -0.153823, 0.246115, 1.0561, -0.234247]                      \n",
       " [1.54301, 0.68994, 1.49702, -2.47522, 3.94657, -6.7124, -0.153924, 0.246365, 1.05543, -0.234546]                       \n",
       " [1.5434, 0.689534, 1.49824, -2.47816, 3.95036, -6.72121, -0.154026, 0.246615, 1.05476, -0.234845]                      \n",
       " [1.54378, 0.689127, 1.49947, -2.4811, 3.95414, -6.73002, -0.154127, 0.246865, 1.05409, -0.235143]                      \n",
       " [1.54417, 0.688721, 1.50069, -2.48404, 3.95793, -6.73884, -0.154228, 0.247115, 1.05342, -0.235441]                     \n",
       " [1.54455, 0.688314, 1.50191, -2.48698, 3.96171, -6.74766, -0.154329, 0.247365, 1.05275, -0.23574]                      "
      ]
     },
     "execution_count": 5,
     "metadata": {},
     "output_type": "execute_result"
    }
   ],
   "source": [
    "global t = collect(range(0, stop=3.0, length=1000))\n",
    "data = Array(solve(prob,Tsit5(),saveat=t,abstol=1e-3,reltol=1e-3))\n",
    "ourprob = ODELocalSensitivityProblem(fitz,r0,tspan,p)\n",
    "oursol = solve(ourprob,Tsit5(),saveat=t,abstol=1e-6,reltol=1e-6)"
   ]
  },
  {
   "cell_type": "code",
   "execution_count": 6,
   "metadata": {},
   "outputs": [
    {
     "data": {
      "text/plain": [
       "0.030906400291308343"
      ]
     },
     "execution_count": 6,
     "metadata": {},
     "output_type": "execute_result"
    }
   ],
   "source": [
    "oursol[3,100]"
   ]
  },
  {
   "cell_type": "code",
   "execution_count": 7,
   "metadata": {},
   "outputs": [
    {
     "data": {
      "text/plain": [
       "156.0153666572656"
      ]
     },
     "execution_count": 7,
     "metadata": {},
     "output_type": "execute_result"
    }
   ],
   "source": [
    "out = Array{Float64}(undef,4)\n",
    "p = [0.7,0.01,0.5,0.3]\n",
    "costfunc_gradient(p,out)"
   ]
  },
  {
   "cell_type": "code",
   "execution_count": 8,
   "metadata": {},
   "outputs": [
    {
     "data": {
      "text/plain": [
       "4-element Array{Float64,1}:\n",
       " -1427.5850850035883  \n",
       " -3400.914962649159   \n",
       "    20.182826443610335\n",
       " -1397.2929452472895  "
      ]
     },
     "execution_count": 8,
     "metadata": {},
     "output_type": "execute_result"
    }
   ],
   "source": [
    "out"
   ]
  },
  {
   "cell_type": "code",
   "execution_count": 9,
   "metadata": {},
   "outputs": [
    {
     "data": {
      "text/plain": [
       "4-element Array{Float64,1}:\n",
       " 2.2946176083e-314\n",
       " 2.32625928e-314  \n",
       " 2.326259691e-314 \n",
       " 2.3474061115e-314"
      ]
     },
     "execution_count": 9,
     "metadata": {},
     "output_type": "execute_result"
    }
   ],
   "source": [
    "out = Array{Float64}(undef,4)"
   ]
  },
  {
   "cell_type": "code",
   "execution_count": 10,
   "metadata": {},
   "outputs": [],
   "source": [
    "Calculus.finite_difference!(costfunc,p,out,:central)"
   ]
  },
  {
   "cell_type": "code",
   "execution_count": 11,
   "metadata": {},
   "outputs": [
    {
     "data": {
      "text/plain": [
       "4-element Array{Float64,1}:\n",
       "   -20.394072706842437\n",
       " -2411.956470218716   \n",
       "    20.18282647509274 \n",
       " -1397.2929466699395  "
      ]
     },
     "execution_count": 11,
     "metadata": {},
     "output_type": "execute_result"
    }
   ],
   "source": [
    "out"
   ]
  },
  {
   "cell_type": "code",
   "execution_count": 12,
   "metadata": {},
   "outputs": [
    {
     "data": {
      "text/plain": [
       "BenchmarkTools.Trial: \n",
       "  memory estimate:  716.36 KiB\n",
       "  allocs estimate:  3852\n",
       "  --------------\n",
       "  minimum time:     551.833 μs (0.00% GC)\n",
       "  median time:      565.354 μs (0.00% GC)\n",
       "  mean time:        631.404 μs (7.51% GC)\n",
       "  maximum time:     2.629 ms (72.84% GC)\n",
       "  --------------\n",
       "  samples:          7882\n",
       "  evals/sample:     1"
      ]
     },
     "execution_count": 12,
     "metadata": {},
     "output_type": "execute_result"
    }
   ],
   "source": [
    "p = [0.5,0.01,0.5,0.3]\n",
    "@benchmark begin\n",
    "    out = Array{Float64}(undef,4)\n",
    "    costfunc_gradient(p,out)\n",
    "end"
   ]
  },
  {
   "cell_type": "code",
   "execution_count": 13,
   "metadata": {},
   "outputs": [
    {
     "data": {
      "text/plain": [
       "160.13550687892612"
      ]
     },
     "execution_count": 13,
     "metadata": {},
     "output_type": "execute_result"
    }
   ],
   "source": [
    "out = Array{Float64}(undef,4)\n",
    "costfunc_gradient(p,out)"
   ]
  },
  {
   "cell_type": "code",
   "execution_count": 14,
   "metadata": {},
   "outputs": [
    {
     "data": {
      "text/plain": [
       "4-element Array{Float64,1}:\n",
       " -1040.4082454134095 \n",
       " -3051.1742930919486 \n",
       "    20.62920078898164\n",
       " -1423.4798754320593 "
      ]
     },
     "execution_count": 14,
     "metadata": {},
     "output_type": "execute_result"
    }
   ],
   "source": [
    "out"
   ]
  },
  {
   "cell_type": "code",
   "execution_count": 15,
   "metadata": {},
   "outputs": [
    {
     "data": {
      "text/plain": [
       "4-element Array{Float64,1}:\n",
       " 2.337380816e-314 \n",
       " 2.337380832e-314 \n",
       " 2.3373808476e-314\n",
       " 2.3373808635e-314"
      ]
     },
     "execution_count": 15,
     "metadata": {},
     "output_type": "execute_result"
    }
   ],
   "source": [
    "out = Array{Float64}(undef,4)"
   ]
  },
  {
   "cell_type": "code",
   "execution_count": 16,
   "metadata": {},
   "outputs": [
    {
     "data": {
      "text/plain": [
       "BenchmarkTools.Trial: \n",
       "  memory estimate:  2.68 MiB\n",
       "  allocs estimate:  15412\n",
       "  --------------\n",
       "  minimum time:     2.108 ms (0.00% GC)\n",
       "  median time:      2.147 ms (0.00% GC)\n",
       "  mean time:        2.366 ms (7.87% GC)\n",
       "  maximum time:     4.691 ms (39.64% GC)\n",
       "  --------------\n",
       "  samples:          2111\n",
       "  evals/sample:     1"
      ]
     },
     "execution_count": 16,
     "metadata": {},
     "output_type": "execute_result"
    }
   ],
   "source": [
    "@benchmark Calculus.finite_difference!(costfunc,p,out,:central)"
   ]
  },
  {
   "cell_type": "code",
   "execution_count": 17,
   "metadata": {},
   "outputs": [
    {
     "data": {
      "text/plain": [
       "4-element Array{Float64,1}:\n",
       "   -20.80816492085976\n",
       " -2040.3434590259521 \n",
       "    20.62920082860255\n",
       " -1423.4798772499987 "
      ]
     },
     "execution_count": 17,
     "metadata": {},
     "output_type": "execute_result"
    }
   ],
   "source": [
    "out"
   ]
  },
  {
   "cell_type": "code",
   "execution_count": 18,
   "metadata": {},
   "outputs": [
    {
     "data": {
      "text/plain": [
       "(0.0010371147232717413, [0.982436, 0.0698732, 0.920972, 0.499256], :XTOL_REACHED)"
      ]
     },
     "execution_count": 18,
     "metadata": {},
     "output_type": "execute_result"
    }
   ],
   "source": [
    "opt = Opt(:LD_MMA, 4)\n",
    "min_objective!(opt, costfunc_gradient)\n",
    "lower_bounds!(opt,[0.0,0.0,0.0,0.0])\n",
    "upper_bounds!(opt,[1.0,0.1,1.0,1.0])\n",
    "xtol_rel!(opt,1e-12)\n",
    "maxeval!(opt, 100000)\n",
    "(minf,minx,ret) = NLopt.optimize(opt,[0.5,0.0,0.5,0.5])"
   ]
  },
  {
   "cell_type": "code",
   "execution_count": null,
   "metadata": {},
   "outputs": [],
   "source": []
  }
 ],
 "metadata": {
  "kernelspec": {
   "display_name": "Julia 1.0.0",
   "language": "julia",
   "name": "julia-1.0"
  },
  "language_info": {
   "file_extension": ".jl",
   "mimetype": "application/julia",
   "name": "julia",
   "version": "1.0.0"
  }
 },
 "nbformat": 4,
 "nbformat_minor": 2
}
